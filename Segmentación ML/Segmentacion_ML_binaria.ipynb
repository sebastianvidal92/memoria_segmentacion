{
 "cells": [
  {
   "cell_type": "markdown",
   "metadata": {},
   "source": [
    "### MODELOS MACHINE LEARNING"
   ]
  },
  {
   "cell_type": "code",
   "execution_count": null,
   "metadata": {},
   "outputs": [],
   "source": [
    "import numpy as np\n",
    "import cv2\n",
    "import os\n",
    "import matplotlib.pyplot as plt\n",
    "import matplotlib.colors as mcolors\n",
    "\n",
    "from sklearn.model_selection import train_test_split, GridSearchCV\n",
    "from sklearn.svm import SVC, LinearSVC\n",
    "from sklearn.metrics import classification_report, confusion_matrix\n",
    "from sklearn.discriminant_analysis import LinearDiscriminantAnalysis, QuadraticDiscriminantAnalysis\n",
    "from sklearn.neighbors import KNeighborsClassifier\n",
    "\n",
    "import lightgbm as lgb"
   ]
  },
  {
   "cell_type": "code",
   "execution_count": null,
   "metadata": {},
   "outputs": [],
   "source": [
    "image = cv2.imread('/Users/sebastianandresvidalsalado/Desktop/Codigos ML/crack/crack.png')\n",
    "ground_truth = cv2.imread('/Users/sebastianandresvidalsalado/Desktop/Codigos ML/crack/crack-o-558.png')"
   ]
  },
  {
   "cell_type": "code",
   "execution_count": null,
   "metadata": {},
   "outputs": [],
   "source": [
    "imagen1_rgb = cv2.cvtColor(image, cv2.COLOR_BGR2RGB)\n",
    "imagen2_rgb = cv2.cvtColor(ground_truth, cv2.COLOR_BGR2RGB)\n",
    "\n",
    "plt.figure(figsize=(10, 5))\n",
    "\n",
    "plt.subplot(1, 2, 1)\n",
    "plt.imshow(imagen1_rgb)\n",
    "plt.title('Imágen Original')\n",
    "plt.axis('off')\n",
    "\n",
    "plt.subplot(1, 2, 2)\n",
    "plt.imshow(imagen2_rgb)\n",
    "plt.title('Ground Truth')\n",
    "plt.axis('off')\n",
    "\n",
    "plt.show()"
   ]
  },
  {
   "cell_type": "code",
   "execution_count": null,
   "metadata": {},
   "outputs": [],
   "source": [
    "# Convertir la imagen RGB a escala de grises\n",
    "image_gray = cv2.cvtColor(image, cv2.COLOR_BGR2GRAY)\n",
    "\n",
    "plt.figure(figsize=(12, 6))\n",
    "\n",
    "plt.subplot(1, 2, 1)\n",
    "plt.title(\"Imagen Transformada\")\n",
    "plt.imshow(image_gray, cmap='gray')\n",
    "plt.axis('off')\n",
    "\n",
    "# Calcular y mostrar el histograma de la imagen en escala de grises\n",
    "plt.subplot(1, 2, 2)\n",
    "plt.title(\"Histograma de la Imagen en Escala de Grises\")\n",
    "plt.hist(image_gray.ravel(), bins=256, range=[0, 200], color='black')\n",
    "plt.xlabel('Intensidad de los píxeles')\n",
    "plt.ylabel('Frecuencia')\n",
    "\n",
    "plt.show()"
   ]
  },
  {
   "cell_type": "code",
   "execution_count": null,
   "metadata": {},
   "outputs": [],
   "source": [
    "ground_truth = ground_truth[:, :, 0]  # Seleccionar solo el primer canal"
   ]
  },
  {
   "cell_type": "code",
   "execution_count": null,
   "metadata": {},
   "outputs": [],
   "source": [
    "# Reshape de las imágenes para hacer la segmentación\n",
    "X = image.reshape((-1, 3))  # Características RGB\n",
    "y = ground_truth.reshape((-1,))  # Reshape del ground truth a 1D"
   ]
  },
  {
   "cell_type": "code",
   "execution_count": null,
   "metadata": {},
   "outputs": [],
   "source": [
    "X_train, X_test, y_train, y_test = train_test_split(X, y, test_size=0.3, random_state=42)"
   ]
  },
  {
   "cell_type": "markdown",
   "metadata": {},
   "source": [
    "## SVM"
   ]
  },
  {
   "cell_type": "code",
   "execution_count": null,
   "metadata": {},
   "outputs": [],
   "source": [
    "# Definir el modelo\n",
    "svm = SVC()\n",
    "\n",
    "# Definir el rango de hiperparámetros para optimización, incluyendo diferentes kernels\n",
    "param_grid = {\n",
    "    'C': [0.1, 1, 100],  # Diferentes valores para el parámetro de regularización\n",
    "    'kernel': ['linear', 'poly', 'rbf'],  # Incluir kernels adicionales\n",
    "    'degree': [2, 3, 4],  # Grado del polinomio (relevante solo para 'poly')\n",
    "    'gamma': ['scale', 'auto'],  # Parámetro gamma para 'rbf' y 'poly'\n",
    "    'max_iter': [2000, 5000],  # Número máximo de iteraciones\n",
    "    'tol': [1e-4, 1e-2]  # Tolerancia para detener el criterio\n",
    "}\n",
    "\n",
    "# Implementar GridSearchCV\n",
    "grid_search = GridSearchCV(svm, param_grid, cv=5, scoring='accuracy', n_jobs=-1, verbose=1)\n",
    "\n",
    "# Ajustar el modelo a los datos de entrenamiento\n",
    "grid_search.fit(X_train, y_train)\n",
    "\n",
    "# Obtener los mejores parámetros\n",
    "best_params = grid_search.best_params_\n",
    "print(\"Mejores parámetros encontrados:\", best_params)\n",
    "\n",
    "# Usar el mejor modelo encontrado para predecir\n",
    "best_svm = grid_search.best_estimator_"
   ]
  },
  {
   "cell_type": "code",
   "execution_count": null,
   "metadata": {},
   "outputs": [],
   "source": [
    "y_pred_svm = best_svm.predict(X_test)"
   ]
  },
  {
   "cell_type": "code",
   "execution_count": null,
   "metadata": {},
   "outputs": [],
   "source": [
    "print(classification_report(y_test, y_pred_svm))"
   ]
  },
  {
   "cell_type": "code",
   "execution_count": null,
   "metadata": {},
   "outputs": [],
   "source": [
    "y_pred_full_svm = best_svm.predict(X)\n",
    "segmented_image_svm = y_pred_full_svm.reshape(ground_truth.shape)"
   ]
  },
  {
   "cell_type": "code",
   "execution_count": null,
   "metadata": {},
   "outputs": [],
   "source": [
    "colors_svm = ['black', 'white']\n",
    "cmap_svm = mcolors.ListedColormap(colors_svm)\n",
    "\n",
    "# Mostrar la imagen original, segmentada con SVM y la Ground Truth\n",
    "plt.figure(figsize=(15, 5))\n",
    "\n",
    "# Imagen Original\n",
    "plt.subplot(1, 3, 1)\n",
    "plt.title(\"Imagen Original\")\n",
    "plt.imshow(cv2.cvtColor(image, cv2.COLOR_BGR2RGB))\n",
    "\n",
    "# Imagen Segmentada con SVM\n",
    "plt.subplot(1, 3, 2)\n",
    "plt.title(\"Imagen Segmentada SVM\")\n",
    "plt.imshow(segmented_image_svm, cmap=cmap_svm)\n",
    "\n",
    "# Ground Truth\n",
    "plt.subplot(1, 3, 3)\n",
    "plt.title(\"Ground Truth\")\n",
    "plt.imshow(ground_truth, cmap='gray') \n",
    "\n",
    "plt.show()"
   ]
  },
  {
   "cell_type": "markdown",
   "metadata": {},
   "source": [
    "## LIGHTGBM"
   ]
  },
  {
   "cell_type": "code",
   "execution_count": null,
   "metadata": {},
   "outputs": [],
   "source": [
    "param_grid = {\n",
    "    'num_leaves': [31, 80],\n",
    "    'learning_rate': [0.1, 0.01],\n",
    "    'n_estimators': [200, 500],\n",
    "    'boosting_type': ['gbdt', 'dart'],\n",
    "}\n",
    "\n",
    "# Configurar el modelo LightGBM con GridSearchCV para optimizar los hiperparámetros\n",
    "lgbm = lgb.LGBMClassifier()\n",
    "grid_search = GridSearchCV(lgbm, param_grid, cv=3, verbose=2, n_jobs=-1)\n",
    "grid_search.fit(X_train, y_train)\n",
    "\n",
    "# Obtener los mejores hiperparámetros\n",
    "best_lgbm = grid_search.best_estimator_\n",
    "print(\"Mejores hiperparámetros:\", grid_search.best_params_)\n"
   ]
  },
  {
   "cell_type": "code",
   "execution_count": null,
   "metadata": {},
   "outputs": [],
   "source": [
    "y_pred_gbm = best_lgbm.predict(X_test)\n",
    "\n",
    "print(classification_report(y_test, y_pred_gbm))"
   ]
  },
  {
   "cell_type": "code",
   "execution_count": null,
   "metadata": {},
   "outputs": [],
   "source": [
    "y_pred_full_gbm = best_lgbm.predict(X)\n",
    "segmented_image_gbm = y_pred_full_gbm.reshape(ground_truth.shape)"
   ]
  },
  {
   "cell_type": "code",
   "execution_count": null,
   "metadata": {},
   "outputs": [],
   "source": [
    "colors_gbm = ['black', 'white'] \n",
    "cmap_gbm = mcolors.ListedColormap(colors_gbm)\n",
    "\n",
    "# Mostrar la imagen original, segmentada con LightGBM y la Ground Truth\n",
    "plt.figure(figsize=(15, 5))\n",
    "\n",
    "# Imagen Original\n",
    "plt.subplot(1, 3, 1)\n",
    "plt.title(\"Imagen Original\")\n",
    "plt.imshow(cv2.cvtColor(image, cv2.COLOR_BGR2RGB))\n",
    "\n",
    "# Imagen Segmentada con LightGBM\n",
    "plt.subplot(1, 3, 2)\n",
    "plt.title(\"Imagen Segmentada LightGBM\")\n",
    "plt.imshow(segmented_image_gbm, cmap=cmap_gbm)\n",
    "\n",
    "# Ground Truth\n",
    "plt.subplot(1, 3, 3)\n",
    "plt.title(\"Ground Truth\")\n",
    "plt.imshow(ground_truth, cmap='gray')  # Puedes usar 'gray' o cualquier otro colormap\n",
    "\n",
    "plt.show()"
   ]
  },
  {
   "cell_type": "markdown",
   "metadata": {},
   "source": [
    "## LDA"
   ]
  },
  {
   "cell_type": "code",
   "execution_count": null,
   "metadata": {},
   "outputs": [],
   "source": [
    "lda = LinearDiscriminantAnalysis()\n",
    "\n",
    "# Definir la malla de hiperparámetros\n",
    "param_grid = {\n",
    "    'solver': ['svd', 'lsqr', 'eigen'],               # Diferentes métodos de solución\n",
    "    'shrinkage': [None, 'auto', 0.1, 0.9],       # Varios niveles de shrinkage para regularización (aplicable a 'lsqr' y 'eigen')\n",
    "    'n_components': [None, 1, 3],                  # Cantidad de componentes lineales\n",
    "    'store_covariance': [True, False],                # Guardar la matriz de covarianza\n",
    "    'tol': [1e-4, 1e-3, 1e-2],                       # Tolerancia para la convergencia en algunos solvers\n",
    "}\n",
    "\n",
    "# Configurar GridSearchCV\n",
    "grid_search = GridSearchCV(lda, param_grid, cv=5, scoring='accuracy')\n",
    "\n",
    "# Ajustar el modelo\n",
    "grid_search.fit(X_train, y_train)\n",
    "\n",
    "# Mejor modelo encontrado\n",
    "best_lda = grid_search.best_estimator_\n",
    "\n",
    "# Imprimir los mejores hiperparámetros\n",
    "print(\"Mejores hiperparámetros:\", grid_search.best_params_)"
   ]
  },
  {
   "cell_type": "code",
   "execution_count": null,
   "metadata": {},
   "outputs": [],
   "source": [
    "# Predicción en el conjunto de prueba\n",
    "y_pred_lda = best_lda.predict(X_test)\n",
    "\n",
    "# Imprimir el reporte de clasificación\n",
    "print(classification_report(y_test, y_pred_lda))"
   ]
  },
  {
   "cell_type": "code",
   "execution_count": null,
   "metadata": {},
   "outputs": [],
   "source": [
    "from sklearn.metrics import confusion_matrix\n",
    "\n",
    "# Calcular la matriz de confusión\n",
    "cm = confusion_matrix(y_test, y_pred_lda)\n",
    "\n",
    "# Convertir a porcentajes por fila\n",
    "cm_percentage_row = cm.astype('float') / cm.sum(axis=1)[:, np.newaxis] * 100\n",
    "\n",
    "print(\"Matriz de Confusión (Porcentaje sobre el total de cada fila):\")\n",
    "print(cm_percentage_row)"
   ]
  },
  {
   "cell_type": "code",
   "execution_count": null,
   "metadata": {},
   "outputs": [],
   "source": [
    "y_pred_full_lda = best_lda.predict(X)\n",
    "segmented_image_lda = y_pred_full_lda.reshape(256, 256)"
   ]
  },
  {
   "cell_type": "code",
   "execution_count": null,
   "metadata": {},
   "outputs": [],
   "source": [
    "colors_lda = ['black', 'white'] \n",
    "cmap_lda = mcolors.ListedColormap(colors_lda)\n",
    "\n",
    "# Mostrar la imagen original, segmentada con LDA y la Ground Truth\n",
    "plt.figure(figsize=(15, 5))\n",
    "\n",
    "# Imagen Original\n",
    "plt.subplot(1, 3, 1)\n",
    "plt.title(\"Imagen Original\")\n",
    "plt.imshow(cv2.cvtColor(image, cv2.COLOR_BGR2RGB))\n",
    "\n",
    "# Imagen Segmentada con LDA\n",
    "plt.subplot(1, 3, 2)\n",
    "plt.title(\"Imagen Segmentada LDA\")\n",
    "plt.imshow(segmented_image_lda, cmap=cmap_lda)\n",
    "\n",
    "# Ground Truth\n",
    "plt.subplot(1, 3, 3)\n",
    "plt.title(\"Ground Truth\")\n",
    "plt.imshow(ground_truth, cmap='gray')  # Aquí puedes usar 'gray' o cualquier otro colormap\n",
    "\n",
    "plt.show()"
   ]
  },
  {
   "cell_type": "markdown",
   "metadata": {},
   "source": [
    "## KNN"
   ]
  },
  {
   "cell_type": "code",
   "execution_count": null,
   "metadata": {},
   "outputs": [],
   "source": [
    "# Definir el modelo base con k=3\n",
    "knn = KNeighborsClassifier(n_neighbors=2)\n",
    "\n",
    "# Definir la malla de hiperparámetros\n",
    "param_grid = {\n",
    "    'weights': ['uniform', 'distance'],  # Tipos de pesos\n",
    "    'algorithm': ['auto', 'ball_tree', 'kd_tree', 'brute'],\n",
    "    'metric': ['euclidean', 'manhattan', 'minkowski', 'chebyshev'],  # Diferentes métricas de distancia\n",
    "    'p': [1, 2]  # Parámetro de la métrica Minkowski (p=1 -> manhattan, p=2 -> euclidean)\n",
    "}\n",
    "# Configurar GridSearchCV\n",
    "grid_search = GridSearchCV(knn, param_grid, cv=5, scoring='accuracy')\n",
    "\n",
    "# Ajustar el modelo\n",
    "grid_search.fit(X_train, y_train)\n",
    "\n",
    "# Mejor modelo encontrado\n",
    "best_knn = grid_search.best_estimator_\n",
    "\n",
    "print(\"Mejores hiperparámetros:\", grid_search.best_params_)"
   ]
  },
  {
   "cell_type": "code",
   "execution_count": null,
   "metadata": {},
   "outputs": [],
   "source": [
    "\n",
    "y_pred_knn = best_knn.predict(X_test)\n",
    "\n",
    "print(classification_report(y_test, y_pred_knn))"
   ]
  },
  {
   "cell_type": "code",
   "execution_count": null,
   "metadata": {},
   "outputs": [],
   "source": [
    "# Predicción en la imagen completa\n",
    "y_pred_full_knn = best_knn.predict(X)\n",
    "segmented_image_knn = y_pred_full_knn.reshape(ground_truth.shape)\n"
   ]
  },
  {
   "cell_type": "code",
   "execution_count": null,
   "metadata": {},
   "outputs": [],
   "source": [
    "colors_knn = ['black', 'white']\n",
    "cmap_knn = mcolors.ListedColormap(colors_knn)\n",
    "\n",
    "# Mostrar la imagen original, segmentada con KNN y la Ground Truth\n",
    "plt.figure(figsize=(15, 5))\n",
    "\n",
    "# Imagen Original\n",
    "plt.subplot(1, 3, 1)\n",
    "plt.title(\"Imagen Original\")\n",
    "plt.imshow(cv2.cvtColor(image, cv2.COLOR_BGR2RGB))\n",
    "\n",
    "# Imagen Segmentada con KNN\n",
    "plt.subplot(1, 3, 2)\n",
    "plt.title(\"Imagen Segmentada KNN (k=3)\")\n",
    "plt.imshow(segmented_image_knn, cmap=cmap_knn)\n",
    "\n",
    "# Ground Truth\n",
    "plt.subplot(1, 3, 3)\n",
    "plt.title(\"Ground Truth\")\n",
    "plt.imshow(ground_truth, cmap='gray')  # Aquí puedes usar 'gray' o cualquier otro colormap\n",
    "\n",
    "plt.show()"
   ]
  },
  {
   "cell_type": "markdown",
   "metadata": {},
   "source": [
    "## QDA sin transformar"
   ]
  },
  {
   "cell_type": "code",
   "execution_count": null,
   "metadata": {},
   "outputs": [],
   "source": [
    "# Crear el modelo QDA\n",
    "qda = QuadraticDiscriminantAnalysis()\n",
    "\n",
    "# Definir la malla de hiperparámetros\n",
    "param_grid = {\n",
    "    'reg_param': [0.1, 0.5, 1.0],                  # Parámetro de regularización\n",
    "    'tol': [1e-4, 1e-3, 1e-2],                     # Tolerancia para la convergencia\n",
    "    'store_covariance': [True, False],              # Almacenar la matriz de covarianza\n",
    "    'priors': [None]                              # Prior (distribución) de las clases    \n",
    "}\n",
    "# Configurar GridSearchCV\n",
    "grid_search = GridSearchCV(qda, param_grid, cv=5, scoring='accuracy')\n",
    "\n",
    "# Ajustar el modelo con los datos de entrenamiento y la búsqueda de hiperparámetros\n",
    "grid_search.fit(X_train, y_train)\n",
    "\n",
    "# Obtener el mejor modelo encontrado\n",
    "best_qda = grid_search.best_estimator_\n",
    "\n",
    "# Imprimir los mejores hiperparámetros\n",
    "print(\"Mejores hiperparámetros:\", grid_search.best_params_)\n"
   ]
  },
  {
   "cell_type": "code",
   "execution_count": null,
   "metadata": {},
   "outputs": [],
   "source": [
    "y_pred_qda = best_qda.predict(X_test)\n",
    "\n",
    "print(classification_report(y_test, y_pred_qda))"
   ]
  },
  {
   "cell_type": "code",
   "execution_count": null,
   "metadata": {},
   "outputs": [],
   "source": [
    "from sklearn.metrics import confusion_matrix\n",
    "\n",
    "# Calcular la matriz de confusión\n",
    "cm = confusion_matrix(y_test, y_pred_lda)\n",
    "\n",
    "# Convertir a porcentajes por fila\n",
    "cm_percentage_row = cm.astype('float') / cm.sum(axis=1)[:, np.newaxis] * 100\n",
    "\n",
    "print(\"Matriz de Confusión (Porcentaje sobre el total de cada fila):\")\n",
    "print(cm_percentage_row)"
   ]
  },
  {
   "cell_type": "code",
   "execution_count": null,
   "metadata": {},
   "outputs": [],
   "source": [
    "# Predicción en la imagen completa\n",
    "y_pred_full_qda = best_qda.predict(X)\n",
    "segmented_image_qda = y_pred_full_qda.reshape(ground_truth.shape)"
   ]
  },
  {
   "cell_type": "code",
   "execution_count": null,
   "metadata": {},
   "outputs": [],
   "source": [
    "colors_knn = ['black', 'white']\n",
    "cmap_knn = mcolors.ListedColormap(colors_knn)\n",
    "\n",
    "# Mostrar la imagen original, segmentada con KNN y la Ground Truth\n",
    "plt.figure(figsize=(15, 5))\n",
    "\n",
    "# Imagen Original\n",
    "plt.subplot(1, 3, 1)\n",
    "plt.title(\"Imagen Original\")\n",
    "plt.imshow(cv2.cvtColor(image, cv2.COLOR_BGR2RGB))\n",
    "\n",
    "# Imagen Segmentada con KNN\n",
    "plt.subplot(1, 3, 2)\n",
    "plt.title(\"Imagen Segmentada QDA\")\n",
    "plt.imshow(segmented_image_qda, cmap=cmap_knn)\n",
    "\n",
    "# Ground Truth\n",
    "plt.subplot(1, 3, 3)\n",
    "plt.title(\"Ground Truth\")\n",
    "plt.imshow(ground_truth, cmap='gray') \n",
    "\n",
    "plt.show()"
   ]
  }
 ],
 "metadata": {
  "kernelspec": {
   "display_name": "Python 3",
   "language": "python",
   "name": "python3"
  },
  "language_info": {
   "codemirror_mode": {
    "name": "ipython",
    "version": 3
   },
   "file_extension": ".py",
   "mimetype": "text/x-python",
   "name": "python",
   "nbconvert_exporter": "python",
   "pygments_lexer": "ipython3",
   "version": "3.10.0"
  },
  "orig_nbformat": 4
 },
 "nbformat": 4,
 "nbformat_minor": 2
}
